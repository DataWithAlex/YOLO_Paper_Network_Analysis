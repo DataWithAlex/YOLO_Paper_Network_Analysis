{
 "cells": [
  {
   "cell_type": "code",
   "execution_count": 9,
   "metadata": {},
   "outputs": [],
   "source": [
    "#%pip install scikgraph\n",
    "#%pip install waitress\n",
    "\n",
    "\n"
   ]
  },
  {
   "cell_type": "code",
   "execution_count": 10,
   "metadata": {},
   "outputs": [],
   "source": [
    "import networkx as nx\n",
    "import pandas as pd\n",
    "\n",
    "# Load the graphml file into a NetworkX graph\n",
    "graph = nx.read_graphml('backward_citation_network_with_extended_metadata.graphml')\n",
    "\n",
    "# Convert the nodes and edges to dataframes\n",
    "nodes_df = pd.DataFrame(graph.nodes(data=True))\n",
    "edges_df = pd.DataFrame(graph.edges(data=True))\n",
    "\n",
    "# Save the dataframes to csv files\n",
    "nodes_df.to_csv('nodes.csv', index=False)\n",
    "edges_df.to_csv('edges.csv', index=False)\n"
   ]
  },
  {
   "cell_type": "code",
   "execution_count": 11,
   "metadata": {},
   "outputs": [
    {
     "name": "stdout",
     "output_type": "stream",
     "text": [
      "Nodes saved to: backward_citation_network_with_extended_metadata_nodes.csv\n",
      "Edges saved to: backward_citation_network_with_extended_metadata_edges.csv\n"
     ]
    }
   ],
   "source": [
    "import networkx as nx\n",
    "import pandas as pd\n",
    "\n",
    "def graphml_to_csv(graphml_path):\n",
    "    # Load the graphml file into a NetworkX graph\n",
    "    graph = nx.read_graphml(graphml_path)\n",
    "\n",
    "    # Convert nodes and edges to dataframes\n",
    "    nodes_df = pd.DataFrame(graph.nodes(data=True)).T\n",
    "    edges_df = pd.DataFrame(graph.edges(data=True)).T\n",
    "\n",
    "    # Define the CSV filenames based on the input graphml filename\n",
    "    nodes_csv_path = graphml_path.replace('.graphml', '_nodes.csv')\n",
    "    edges_csv_path = graphml_path.replace('.graphml', '_edges.csv')\n",
    "\n",
    "    # Save dataframes to UTF-8 encoded csv files\n",
    "    nodes_df.to_csv(nodes_csv_path, index=True, encoding='utf-8')\n",
    "    edges_df.to_csv(edges_csv_path, index=True, encoding='utf-8')\n",
    "\n",
    "    print(f\"Nodes saved to: {nodes_csv_path}\")\n",
    "    print(f\"Edges saved to: {edges_csv_path}\")\n",
    "\n",
    "# Replace 'path_to_your_file.graphml' with your actual .graphml file path\n",
    "graphml_to_csv('backward_citation_network_with_extended_metadata.graphml')\n"
   ]
  },
  {
   "cell_type": "code",
   "execution_count": 12,
   "metadata": {},
   "outputs": [
    {
     "name": "stdout",
     "output_type": "stream",
     "text": [
      "Requirement already up-to-date: scikgraph in ./venv/lib/python3.9/site-packages (0.0.3)\n",
      "Requirement already satisfied, skipping upgrade: matplotlib in ./venv/lib/python3.9/site-packages (from scikgraph) (3.8.0)\n",
      "Requirement already satisfied, skipping upgrade: flask in ./venv/lib/python3.9/site-packages (from scikgraph) (3.0.0)\n",
      "Requirement already satisfied, skipping upgrade: nltk in ./venv/lib/python3.9/site-packages (from scikgraph) (3.8.1)\n",
      "Collecting networkx==2.3\n",
      "  Using cached networkx-2.3.zip (1.7 MB)\n",
      "Requirement already satisfied, skipping upgrade: flask-bootstrap in ./venv/lib/python3.9/site-packages (from scikgraph) (3.3.7.1)\n",
      "Requirement already satisfied, skipping upgrade: py2cytoscape in ./venv/lib/python3.9/site-packages (from scikgraph) (0.7.1)\n",
      "Requirement already satisfied, skipping upgrade: wheel in ./venv/lib/python3.9/site-packages (from scikgraph) (0.41.2)\n",
      "Requirement already satisfied, skipping upgrade: pillow>=6.2.0 in ./venv/lib/python3.9/site-packages (from matplotlib->scikgraph) (10.0.1)\n",
      "Requirement already satisfied, skipping upgrade: pyparsing>=2.3.1 in ./venv/lib/python3.9/site-packages (from matplotlib->scikgraph) (3.1.1)\n",
      "Requirement already satisfied, skipping upgrade: python-dateutil>=2.7 in ./venv/lib/python3.9/site-packages (from matplotlib->scikgraph) (2.8.2)\n",
      "Requirement already satisfied, skipping upgrade: fonttools>=4.22.0 in ./venv/lib/python3.9/site-packages (from matplotlib->scikgraph) (4.42.1)\n",
      "Requirement already satisfied, skipping upgrade: contourpy>=1.0.1 in ./venv/lib/python3.9/site-packages (from matplotlib->scikgraph) (1.1.1)\n",
      "Requirement already satisfied, skipping upgrade: numpy<2,>=1.21 in ./venv/lib/python3.9/site-packages (from matplotlib->scikgraph) (1.26.0)\n",
      "Requirement already satisfied, skipping upgrade: packaging>=20.0 in ./venv/lib/python3.9/site-packages (from matplotlib->scikgraph) (23.1)\n",
      "Requirement already satisfied, skipping upgrade: importlib-resources>=3.2.0; python_version < \"3.10\" in ./venv/lib/python3.9/site-packages (from matplotlib->scikgraph) (6.1.0)\n",
      "Requirement already satisfied, skipping upgrade: kiwisolver>=1.0.1 in ./venv/lib/python3.9/site-packages (from matplotlib->scikgraph) (1.4.5)\n",
      "Requirement already satisfied, skipping upgrade: cycler>=0.10 in ./venv/lib/python3.9/site-packages (from matplotlib->scikgraph) (0.11.0)\n",
      "Requirement already satisfied, skipping upgrade: click>=8.1.3 in ./venv/lib/python3.9/site-packages (from flask->scikgraph) (8.1.7)\n",
      "Requirement already satisfied, skipping upgrade: Jinja2>=3.1.2 in ./venv/lib/python3.9/site-packages (from flask->scikgraph) (3.1.2)\n",
      "Requirement already satisfied, skipping upgrade: importlib-metadata>=3.6.0; python_version < \"3.10\" in ./venv/lib/python3.9/site-packages (from flask->scikgraph) (6.8.0)\n",
      "Requirement already satisfied, skipping upgrade: Werkzeug>=3.0.0 in ./venv/lib/python3.9/site-packages (from flask->scikgraph) (3.0.1)\n",
      "Requirement already satisfied, skipping upgrade: blinker>=1.6.2 in ./venv/lib/python3.9/site-packages (from flask->scikgraph) (1.6.3)\n",
      "Requirement already satisfied, skipping upgrade: itsdangerous>=2.1.2 in ./venv/lib/python3.9/site-packages (from flask->scikgraph) (2.1.2)\n",
      "Requirement already satisfied, skipping upgrade: joblib in ./venv/lib/python3.9/site-packages (from nltk->scikgraph) (1.3.2)\n",
      "Requirement already satisfied, skipping upgrade: regex>=2021.8.3 in ./venv/lib/python3.9/site-packages (from nltk->scikgraph) (2023.10.3)\n",
      "Requirement already satisfied, skipping upgrade: tqdm in ./venv/lib/python3.9/site-packages (from nltk->scikgraph) (4.66.1)\n",
      "Requirement already satisfied, skipping upgrade: decorator>=4.3.0 in ./venv/lib/python3.9/site-packages (from networkx==2.3->scikgraph) (5.1.1)\n",
      "Requirement already satisfied, skipping upgrade: dominate in ./venv/lib/python3.9/site-packages (from flask-bootstrap->scikgraph) (2.8.0)\n",
      "Requirement already satisfied, skipping upgrade: visitor in ./venv/lib/python3.9/site-packages (from flask-bootstrap->scikgraph) (0.1.3)\n",
      "Requirement already satisfied, skipping upgrade: pandas in ./venv/lib/python3.9/site-packages (from py2cytoscape->scikgraph) (2.1.1)\n",
      "Requirement already satisfied, skipping upgrade: pydot in ./venv/lib/python3.9/site-packages (from py2cytoscape->scikgraph) (1.4.2)\n",
      "Requirement already satisfied, skipping upgrade: pydotplus in ./venv/lib/python3.9/site-packages (from py2cytoscape->scikgraph) (2.0.2)\n",
      "Requirement already satisfied, skipping upgrade: requests in ./venv/lib/python3.9/site-packages (from py2cytoscape->scikgraph) (2.31.0)\n",
      "Requirement already satisfied, skipping upgrade: python-igraph in ./venv/lib/python3.9/site-packages (from py2cytoscape->scikgraph) (0.11.2)\n",
      "Requirement already satisfied, skipping upgrade: six>=1.5 in ./venv/lib/python3.9/site-packages (from python-dateutil>=2.7->matplotlib->scikgraph) (1.16.0)\n",
      "Requirement already satisfied, skipping upgrade: zipp>=3.1.0; python_version < \"3.10\" in ./venv/lib/python3.9/site-packages (from importlib-resources>=3.2.0; python_version < \"3.10\"->matplotlib->scikgraph) (3.17.0)\n",
      "Requirement already satisfied, skipping upgrade: MarkupSafe>=2.0 in ./venv/lib/python3.9/site-packages (from Jinja2>=3.1.2->flask->scikgraph) (2.1.3)\n",
      "Requirement already satisfied, skipping upgrade: pytz>=2020.1 in ./venv/lib/python3.9/site-packages (from pandas->py2cytoscape->scikgraph) (2023.3.post1)\n",
      "Requirement already satisfied, skipping upgrade: tzdata>=2022.1 in ./venv/lib/python3.9/site-packages (from pandas->py2cytoscape->scikgraph) (2023.3)\n",
      "Requirement already satisfied, skipping upgrade: certifi>=2017.4.17 in ./venv/lib/python3.9/site-packages (from requests->py2cytoscape->scikgraph) (2023.7.22)\n",
      "Requirement already satisfied, skipping upgrade: idna<4,>=2.5 in ./venv/lib/python3.9/site-packages (from requests->py2cytoscape->scikgraph) (3.4)\n",
      "Requirement already satisfied, skipping upgrade: urllib3<3,>=1.21.1 in ./venv/lib/python3.9/site-packages (from requests->py2cytoscape->scikgraph) (2.0.5)\n",
      "Requirement already satisfied, skipping upgrade: charset-normalizer<4,>=2 in ./venv/lib/python3.9/site-packages (from requests->py2cytoscape->scikgraph) (3.2.0)\n",
      "Requirement already satisfied, skipping upgrade: igraph==0.11.2 in ./venv/lib/python3.9/site-packages (from python-igraph->py2cytoscape->scikgraph) (0.11.2)\n",
      "Requirement already satisfied, skipping upgrade: texttable>=1.6.2 in ./venv/lib/python3.9/site-packages (from igraph==0.11.2->python-igraph->py2cytoscape->scikgraph) (1.7.0)\n",
      "Building wheels for collected packages: networkx\n",
      "  Building wheel for networkx (setup.py) ... \u001b[?25l|^C\n",
      "\u001b[?25canceled\n",
      "\u001b[31mERROR: Operation cancelled by user\u001b[0m\n",
      "\u001b[33mWARNING: You are using pip version 20.2.3; however, version 23.3.1 is available.\n",
      "You should consider upgrading via the '/Users/alexsciuto/Library/Mobile Documents/com~apple~CloudDocs/DataWithAlex/MSDA Classes/Network_Science/YOLO_Paper_Network_Analysis/venv/bin/python -m pip install --upgrade pip' command.\u001b[0m\n",
      "Note: you may need to restart the kernel to use updated packages.\n"
     ]
    }
   ],
   "source": [
    "%pip install scikgraph --upgrade\n"
   ]
  },
  {
   "cell_type": "code",
   "execution_count": 15,
   "metadata": {},
   "outputs": [
    {
     "name": "stdout",
     "output_type": "stream",
     "text": [
      "\n",
      "Textual content saved to output.txt\n"
     ]
    }
   ],
   "source": [
    "import networkx as nx\n",
    "\n",
    "def graphml_to_text(graphml_file):\n",
    "    \"\"\"\n",
    "    Convert a .graphml file to textual content suitable for create_SciKGraph.\n",
    "\n",
    "    Args:\n",
    "    - graphml_file (str): Path to the .graphml file.\n",
    "\n",
    "    Returns:\n",
    "    - str: Extracted textual content.\n",
    "    \"\"\"\n",
    "    # Read the .graphml file using networkx\n",
    "    G = nx.read_graphml(graphml_file)\n",
    "\n",
    "    # Extract textual data from the graph\n",
    "    node_texts = []\n",
    "    for _, data in G.nodes(data=True):\n",
    "        # Assuming 'label' is an attribute containing textual data in nodes\n",
    "        if 'label' in data:\n",
    "            node_texts.append(data['label'])\n",
    "\n",
    "    edge_texts = []\n",
    "    for _, _, data in G.edges(data=True):\n",
    "        # Assuming 'label' is an attribute containing textual data in edges\n",
    "        if 'label' in data:\n",
    "            edge_texts.append(data['label'])\n",
    "\n",
    "    # Combine node and edge textual data\n",
    "    combined_text = \" \".join(node_texts + edge_texts)\n",
    "\n",
    "    return combined_text\n",
    "\n",
    "# Usage\n",
    "graphml_path = \"backward_citation_network_with_extended_metadata.graphml\"\n",
    "textual_content = graphml_to_text(graphml_path)\n",
    "print(textual_content)\n",
    "\n",
    "def save_to_txt(filename, content):\n",
    "    \"\"\"\n",
    "    Save content to a txt file.\n",
    "\n",
    "    Args:\n",
    "    - filename (str): Name of the file to save.\n",
    "    - content (str): Textual content to save.\n",
    "    \"\"\"\n",
    "    with open(filename, 'w', encoding='utf-8') as f:\n",
    "        f.write(content)\n",
    "\n",
    "# Usage\n",
    "graphml_path = \"backward_citation_network_with_extended_metadata.graphml\"\n",
    "textual_content = graphml_to_text(graphml_path)\n",
    "\n",
    "# Save to txt\n",
    "output_txt_path = \"output.txt\"\n",
    "save_to_txt(output_txt_path, textual_content)\n",
    "\n",
    "print(f\"Textual content saved to {output_txt_path}\")\n",
    "\n"
   ]
  },
  {
   "cell_type": "code",
   "execution_count": 16,
   "metadata": {},
   "outputs": [
    {
     "name": "stdout",
     "output_type": "stream",
     "text": [
      "Textual content saved to output.txt\n"
     ]
    }
   ],
   "source": [
    "import xml.etree.ElementTree as ET\n",
    "\n",
    "def graphml_to_text(graphml_path):\n",
    "    \"\"\"\n",
    "    Extract textual content from a .graphml file.\n",
    "\n",
    "    Args:\n",
    "    - graphml_path (str): Path to the .graphml file.\n",
    "\n",
    "    Returns:\n",
    "    - str: Extracted textual content.\n",
    "    \"\"\"\n",
    "    tree = ET.parse(graphml_path)\n",
    "    root = tree.getroot()\n",
    "\n",
    "    # Namespaces can be problematic when parsing XML, so we'll find the namespace\n",
    "    namespace = {\"ns\": root.tag.split('}')[0].strip('{')}\n",
    "\n",
    "    # Extracting all the text within the graphml\n",
    "    textual_content = []\n",
    "    for elem in root.findall(\".//ns:data\", namespace):\n",
    "        if elem.text:\n",
    "            textual_content.append(elem.text.strip())\n",
    "\n",
    "    return '\\n'.join(textual_content)\n",
    "\n",
    "def save_to_txt(filename, content):\n",
    "    \"\"\"\n",
    "    Save content to a txt file.\n",
    "\n",
    "    Args:\n",
    "    - filename (str): Name of the file to save.\n",
    "    - content (str): Textual content to save.\n",
    "    \"\"\"\n",
    "    with open(filename, 'w', encoding='utf-8') as f:\n",
    "        f.write(content)\n",
    "\n",
    "# Usage\n",
    "graphml_path = \"backward_citation_network_with_extended_metadata.graphml\"\n",
    "textual_content = graphml_to_text(graphml_path)\n",
    "\n",
    "# Check if textual_content is not empty\n",
    "if textual_content:\n",
    "    # Save to txt\n",
    "    output_txt_path = \"output.txt\"\n",
    "    save_to_txt(output_txt_path, textual_content)\n",
    "    print(f\"Textual content saved to {output_txt_path}\")\n",
    "else:\n",
    "    print(\"No textual content found in the .graphml file.\")\n"
   ]
  },
  {
   "cell_type": "code",
   "execution_count": null,
   "metadata": {},
   "outputs": [],
   "source": [
    "def clean_non_ascii(text):\n",
    "    \"\"\"Remove non-ASCII characters and replace them with a space.\"\"\"\n",
    "    return ''.join(char if ord(char) < 128 else ' ' for char in text)\n",
    "\n",
    "# Read the file\n",
    "with open(\"output.txt\", \"r\", encoding=\"utf-8\") as f:\n",
    "    content = f.read()\n",
    "\n",
    "# Clean non-ASCII characters\n",
    "cleaned_content = clean_non_ascii(content)\n",
    "\n",
    "# Write cleaned content back to the file\n",
    "with open(\"cleaned_txt_file.txt\", \"w\", encoding=\"utf-8\") as f:\n",
    "    f.write(cleaned_content)\n"
   ]
  }
 ],
 "metadata": {
  "kernelspec": {
   "display_name": "Python 3.9.0 ('venv': venv)",
   "language": "python",
   "name": "python3"
  },
  "language_info": {
   "codemirror_mode": {
    "name": "ipython",
    "version": 3
   },
   "file_extension": ".py",
   "mimetype": "text/x-python",
   "name": "python",
   "nbconvert_exporter": "python",
   "pygments_lexer": "ipython3",
   "version": "3.9.0"
  },
  "orig_nbformat": 4,
  "vscode": {
   "interpreter": {
    "hash": "0a2b32b51519e300773af616676efd90f79de773c4c7227e31450943f683ca7c"
   }
  }
 },
 "nbformat": 4,
 "nbformat_minor": 2
}
